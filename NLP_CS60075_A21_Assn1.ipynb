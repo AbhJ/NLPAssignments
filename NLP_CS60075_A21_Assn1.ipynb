{
  "nbformat": 4,
  "nbformat_minor": 0,
  "metadata": {
    "colab": {
      "name": "NLP_CS60075_A21_Assn1.ipynb",
      "provenance": [],
      "collapsed_sections": [],
      "include_colab_link": true
    },
    "kernelspec": {
      "name": "python3",
      "display_name": "Python 3"
    },
    "language_info": {
      "name": "python"
    },
    "accelerator": "GPU"
  },
  "cells": [
    {
      "cell_type": "markdown",
      "metadata": {
        "id": "view-in-github",
        "colab_type": "text"
      },
      "source": [
        "<a href=\"https://colab.research.google.com/github/AbhJ/NLPAssignments/blob/main/NLP_CS60075_A21_Assn1.ipynb\" target=\"_parent\"><img src=\"https://colab.research.google.com/assets/colab-badge.svg\" alt=\"Open In Colab\"/></a>"
      ]
    },
    {
      "cell_type": "markdown",
      "metadata": {
        "id": "4Z_wN2v1RT1F"
      },
      "source": [
        "# **Assignment-1 for CS60075: Natural Language Processing**\n",
        "\n",
        "#### Instructor : Prof. Sudeshna Sarkar\n",
        "\n",
        "#### Teaching Assistants : Alapan Kuila, Aniruddha Roy, Prithwish Jana, Udit Dharmin Desai\n",
        "\n",
        "#### Date of Announcement: 4th Sept, 2021\n",
        "#### Deadline for Submission: 11.59pm on Sunday, 12th Sept, 2021 \n",
        "\n",
        "#### (**NOTE**: Submit a .zip file, containing this .ipynb file, named as `<Your_Roll_Number>_Assn1_NLP_A21.ipynb` and the raw text corpus named `<Your_Roll_Number>_Assn1_rawCorpus.txt`. For example, if your roll number is 20XX12Y45, name the .ipynb file as `20XX12Y45_Assn1_NLP_A21.ipynb`. Name the .zip as `<Your_Roll_Number>_Assn1_NLP_A21.zip`. Write your code in the respective designated portion of the .ipynb. Also before submitting, make sure that all the outputs of your code are present in the .ipynb file itself.)"
      ]
    },
    {
      "cell_type": "markdown",
      "metadata": {
        "id": "3a35tmEySCx7"
      },
      "source": [
        "### **Submission Details:**\n",
        "Name: Abhijay Mitra\n",
        "\n",
        "Roll No.: 18IE10001\n",
        "\n",
        "Department: Electrical Engineering\n",
        "\n",
        "Email-ID: mitraabhijay@gmail.com"
      ]
    },
    {
      "cell_type": "markdown",
      "metadata": {
        "id": "9weHMmyd8fnq"
      },
      "source": [
        "## **Reading a Raw Text Corpus**"
      ]
    },
    {
      "cell_type": "markdown",
      "metadata": {
        "id": "DmSy_LOK2aGQ"
      },
      "source": [
        "Retrieve & save raw corpus"
      ]
    },
    {
      "cell_type": "code",
      "metadata": {
        "id": "rku6rV2ORpZA"
      },
      "source": [
        "# To construct your corpus, retrieve (through Python code) Chapter I to Chapter X,\n",
        "# both inclusive, from the link below:\n",
        "# \"https://www.gutenberg.org/files/730/730-0.txt\"\n",
        "# Save this corpus in a text file, named as 'rawCorpus.txt'\n",
        "# Print the total number of characters in the text file \n",
        "\n",
        "# *** Write code ***\n",
        "from urllib.request import urlopen\n",
        "# textFile = open('730-0.txt', 'r')\n",
        "with urlopen('https://www.gutenberg.org/files/730/730-0.txt') as url:\n",
        "    textFile = url.read().decode('utf8');\n",
        "insideFlag = 0\n",
        "\n",
        "# print(textFile)\n",
        "\n",
        "startPos = textFile.find('CHAPTER I')\n",
        "endinPos = textFile.find('CHAPTER XI')\n",
        "\n",
        "text = textFile[startPos: endinPos] \n",
        "\n",
        "# print(text)\n",
        "\n",
        "corpusFile = open('rawCorpus.txt', 'w')\n",
        "corpusFile.write(text)\n",
        "corpusFile.close()\n",
        "\n",
        "\n",
        "# Extracting the text in list\n",
        "\n",
        "# for i in textFile:\n",
        "#   if 'CHAPTER XI' in i:\n",
        "#     insideFlag = 0\n",
        "#     break\n",
        "#   elif 'CHAPTER I' in i:\n",
        "#     insideFlag = 1\n",
        "#   if insideFlag == 1:\n",
        "#     # lineString = i.strip()\n",
        "#     # # # We only add the string if it is not empty\n",
        "#     # if lineString != '':\n",
        "#     #   list.append(lineString)\n",
        "#     list.append(i)\n",
        "\n",
        "# print(list)\n",
        "\n",
        "# corpusFile = open('rawCorpus.txt', 'w')\n",
        "# corpusFile.write('\\n'.join(list))\n",
        "# corpusFile.close()"
      ],
      "execution_count": null,
      "outputs": []
    },
    {
      "cell_type": "markdown",
      "metadata": {
        "id": "6KZIOy0Y2hzQ"
      },
      "source": [
        "Read the corpus"
      ]
    },
    {
      "cell_type": "code",
      "metadata": {
        "id": "DsdBJa_l2l7g",
        "colab": {
          "base_uri": "https://localhost:8080/"
        },
        "outputId": "ea9f7b29-af4e-47ad-ec1e-8792fb0b2519"
      },
      "source": [
        "# Read the corpus from rawCorpus.txt, in a variable `rawReadCorpus`\n",
        "# *** Write code ***\n",
        "\n",
        "rawReadCorpus = open('rawCorpus.txt', 'r').read()\n",
        "\n",
        "print (\"Total # of characters in read dataset: {}\".format(len(rawReadCorpus)))"
      ],
      "execution_count": null,
      "outputs": [
        {
          "output_type": "stream",
          "name": "stdout",
          "text": [
            "Total # of characters in read dataset: 148717\n"
          ]
        }
      ]
    },
    {
      "cell_type": "markdown",
      "metadata": {
        "id": "xhkmGsSoV0zG"
      },
      "source": [
        "## **Installing NLTK**\n",
        "\n",
        "The Natural Language Toolkit ([NLTK](https://www.nltk.org/)) is a Python module that is intended to support research and teaching in NLP or closely related areas. \n",
        "\n",
        "Detailed installation instructions to install NLTK can be found at this [link](https://www.nltk.org/install.html).\n",
        "\n",
        "To ensure uniformity, we suggest to use **python3**. You can download Anaconda3 and create a separate environment to do this assignment, eg.\n",
        "```bash\n",
        "conda create -n myenv python=3.6\n",
        "conda activate myenv\n",
        "```\n",
        "\n",
        "The link to anaconda3 for Windows and Linux is available here https://docs.anaconda.com/anaconda/install/. Subsequently, you can install NLTK through the following commands:\n",
        "```bash\n",
        "sudo pip3 install nltk \n",
        "python3 \n",
        "nltk.download()\n",
        "```"
      ]
    },
    {
      "cell_type": "markdown",
      "metadata": {
        "id": "utKtZeHq4N98"
      },
      "source": [
        "## **Preprocessing the corpus**"
      ]
    },
    {
      "cell_type": "markdown",
      "metadata": {
        "id": "_gP9ihZnn_9W"
      },
      "source": [
        ""
      ]
    },
    {
      "cell_type": "markdown",
      "metadata": {
        "id": "5-LSUX__82Ff"
      },
      "source": [
        "**Tokenize into words and sentences, using NLTK library:** Using the NLTK modules imported above, retrieve a case-insensitive preprocessed model. Make sure to take care of words like \"\\_will\\_\" (that should ideally appear as \"will\"), \"wouldn't\" (that should ideally appear as a single word, and not multiple tokens) and other occurences of special cases that you find in the raw corpus. "
      ]
    },
    {
      "cell_type": "code",
      "metadata": {
        "id": "2g7eO4Dm4jIn",
        "colab": {
          "base_uri": "https://localhost:8080/"
        },
        "outputId": "5af03ebd-9139-4c6a-a687-2513ac696699"
      },
      "source": [
        "# Importing modules\n",
        "import nltk\n",
        "nltk.download('punkt') # For tokenizers\n",
        "from nltk.tokenize import word_tokenize,sent_tokenize"
      ],
      "execution_count": null,
      "outputs": [
        {
          "output_type": "stream",
          "name": "stdout",
          "text": [
            "[nltk_data] Downloading package punkt to /root/nltk_data...\n",
            "[nltk_data]   Unzipping tokenizers/punkt.zip.\n"
          ]
        }
      ]
    },
    {
      "cell_type": "code",
      "metadata": {
        "id": "cWIzYXyz9Zt_",
        "colab": {
          "base_uri": "https://localhost:8080/"
        },
        "outputId": "4dd28dd7-e74d-4c30-8d9e-af9b9248e4a0"
      },
      "source": [
        "# *** Write code for preprocessing the corpus ***\n",
        "# As it has been asked for case insensitive model, we covert sentences to\n",
        "# lower, we also remove punctuation\n",
        "\n",
        "text = rawReadCorpus.lower()\n",
        "\n",
        "def tokenisationMethodForSent(text):\n",
        "\n",
        "    unwantedPunctuations = '\\\"’—”“\"#$%&()*+,-/:;<=>?@[\\]^_`{|}'\n",
        "\n",
        "    text = \"\".join([char for char in text if char not in unwantedPunctuations])\n",
        "\n",
        "    text = sent_tokenize(text)\n",
        "\n",
        "    return text\n",
        "\n",
        "def tokenisationMethodForWord(text):\n",
        "\n",
        "    unwantedPunctuations = '\\\"’—”“!\"#$%&()*+,-./:;<=>?@[\\]^_`{|}'\n",
        "\n",
        "    text = \"\".join([char for char in text if char not in unwantedPunctuations])\n",
        "\n",
        "    text = word_tokenize(text)\n",
        "\n",
        "    return text\n",
        "\n",
        "textTokenisedToSent = tokenisationMethodForSent(text)\n",
        "textTokenisedToWord = tokenisationMethodForWord(text)\n",
        "\n",
        "# print(text)\n",
        "print('First 5 sentences are: ', textTokenisedToSent[:5])\n",
        "print('First 5 words are:     ', textTokenisedToWord[:5])\n",
        "\n",
        "# Print first 5 sentences of your preprocessed corpus *** Write code ***\n",
        "# Print first 5 words/tokens of your preprocessed corpus *** Write code ***"
      ],
      "execution_count": null,
      "outputs": [
        {
          "output_type": "stream",
          "name": "stdout",
          "text": [
            "First 5 sentences are:  ['chapter i.\\ntreats of the place where oliver twist was born and of the\\ncircumstances attending his birth\\n\\n\\namong other public buildings in a certain town which for many reasons\\nit will be prudent to refrain from mentioning and to which i will\\nassign no fictitious name there is one anciently common to most towns\\ngreat or small to wit a workhouse and in this workhouse was born on\\na day and date which i need not trouble myself to repeat inasmuch as\\nit can be of no possible consequence to the reader in this stage of\\nthe business at all events the item of mortality whose name is\\nprefixed to the head of this chapter.', 'for a long time after it was ushered into this world of sorrow and\\ntrouble by the parish surgeon it remained a matter of considerable\\ndoubt whether the child would survive to bear any name at all in which\\ncase it is somewhat more than probable that these memoirs would never\\nhave appeared or if they had that being comprised within a couple of\\npages they would have possessed the inestimable merit of being the\\nmost concise and faithful specimen of biography extant in the\\nliterature of any age or country.', 'although i am not disposed to maintain that the being born in a\\nworkhouse is in itself the most fortunate and enviable circumstance\\nthat can possibly befall a human being i do mean to say that in this\\nparticular instance it was the best thing for oliver twist that could\\nby possibility have occurred.', 'the fact is that there was considerable\\ndifficulty in inducing oliver to take upon himself the office of\\nrespirationa troublesome practice but one which custom has rendered\\nnecessary to our easy existence and for some time he lay gasping on a\\nlittle flock mattress rather unequally poised between this world and\\nthe next the balance being decidedly in favour of the latter.', 'now if\\nduring this brief period oliver had been surrounded by careful\\ngrandmothers anxious aunts experienced nurses and doctors of\\nprofound wisdom he would most inevitably and indubitably have been\\nkilled in no time.']\n",
            "First 5 words are:      ['chapter', 'i', 'treats', 'of', 'the']\n"
          ]
        }
      ]
    },
    {
      "cell_type": "markdown",
      "metadata": {
        "id": "eZ75_a1QL70J"
      },
      "source": [
        "**Perform the following tasks for the given corpus:**\n",
        "1. Print the average number of tokens per sentence.\n",
        "2. Print the length of the longest and the shortest sentence, that contains the word 'Oliver' ('Oliver' is case-insensitive).\n",
        "3. Print the number of unique tokens in the corpus, after stopword removal using the stopwords from NLTK (case-insensitive)."
      ]
    },
    {
      "cell_type": "code",
      "metadata": {
        "id": "pyG0g3oSADmV",
        "colab": {
          "base_uri": "https://localhost:8080/"
        },
        "outputId": "b6a82c90-030f-4fe8-b5f4-6212db8b8905"
      },
      "source": [
        "# Importing modules\n",
        "nltk.download('stopwords')\n",
        "from nltk.corpus import stopwords"
      ],
      "execution_count": null,
      "outputs": [
        {
          "output_type": "stream",
          "name": "stdout",
          "text": [
            "[nltk_data] Downloading package stopwords to /root/nltk_data...\n",
            "[nltk_data]   Unzipping corpora/stopwords.zip.\n"
          ]
        }
      ]
    },
    {
      "cell_type": "code",
      "metadata": {
        "id": "ydHIxC7lG7Py",
        "colab": {
          "base_uri": "https://localhost:8080/"
        },
        "outputId": "e084f365-92f9-4edd-9319-071b4909d30f"
      },
      "source": [
        "# *** Write code for the 2 tasks above ***\n",
        "print('1. The average number of tokens per sentence is: ' + str(len(textTokenisedToWord) / len(textTokenisedToSent)))\n",
        "\n",
        "maxLengthWithOliver = float('-inf')\n",
        "minLengthWithOliver = float('inf')\n",
        "\n",
        "for sent in textTokenisedToSent:\n",
        "    if 'Oliver'.lower() in sent:\n",
        "        maxLengthWithOliver = max(maxLengthWithOliver, len(sent))\n",
        "        minLengthWithOliver = min(minLengthWithOliver, len(sent))\n",
        "\n",
        "print('2.a. Length of the longest sentence with word \\'Oliver\\' is: ' + str(maxLengthWithOliver) + ' characters')\n",
        "print('2.b. Length of the shortest sentence with word \\'Oliver\\' is: ' + str(minLengthWithOliver) + ' characters')\n",
        "\n",
        "# removing stopwords\n",
        "tokensWithoutSw = [word for word in textTokenisedToWord if word not in stopwords.words('english')]\n",
        "# only storing unique words\n",
        "tokensUnique    = set(tokensWithoutSw)\n",
        "print('3. The number of unique tokens in the corpus, after stopword removal is: ' + str(len(tokensUnique)))"
      ],
      "execution_count": null,
      "outputs": [
        {
          "output_type": "stream",
          "name": "stdout",
          "text": [
            "1. The average number of tokens per sentence is: 19.967816091954024\n",
            "2.a. Length of the longest sentence with word 'Oliver' is: 631 characters\n",
            "2.b. Length of the shortest sentence with word 'Oliver' is: 7 characters\n",
            "3. The number of unique tokens in the corpus, after stopword removal is: 4212\n"
          ]
        }
      ]
    },
    {
      "cell_type": "markdown",
      "metadata": {
        "id": "X5RiDR7TJjKX"
      },
      "source": [
        "## **Language Modeling**"
      ]
    },
    {
      "cell_type": "markdown",
      "metadata": {
        "id": "UJeTSt8HM95L"
      },
      "source": [
        "### Task: In this sub-task, you are expected to carry out the following tasks:\n",
        "\n",
        "1. **Create the following language models** on the given corpus: <br>\n",
        "    i.   Unigram <br>\n",
        "    ii.  Bigram <br>\n",
        "    iii. Trigram <br>\n",
        "\n",
        "2. **List the top 10 bigrams, trigrams**\n",
        "(Additionally remove those items which contain only articles, prepositions, determiners eg. \"of the\", \"in a\", etc. List top-10 bigrams/trigrams in both the original and processed models)."
      ]
    },
    {
      "cell_type": "code",
      "metadata": {
        "id": "DlPXGvVaR-ka",
        "colab": {
          "base_uri": "https://localhost:8080/"
        },
        "outputId": "0ff7ac01-0462-450e-bfaa-7d7f41afb2fd"
      },
      "source": [
        "from nltk.util import ngrams\n",
        "\n",
        "### WORK IN PROGRESS ###\n",
        "\n",
        "unigrams=[]\n",
        "bigrams=[]\n",
        "trigrams=[]\n",
        "\n",
        "for content in (textTokenisedToSent):\n",
        "    #pre_processed corpus): # *** Write code ***\n",
        "    unigrams.extend(ngrams(content.split(), 1))\n",
        "    if len(content.split()) > 1:\n",
        "        bigrams.extend(ngrams(content.split(), 2))\n",
        "    if len(content.split()) > 2:\n",
        "        trigrams.extend(ngrams(content.split(), 3))\n",
        "    ##similar for trigrams \n",
        "    # *** Write code ***\n",
        "\n",
        "print (\"Sample of n-grams:\\n\" + \"-------------------------\")\n",
        "print (\"--> UNIGRAMS: \\n\" + str(unigrams[:5]) + \" ...\\n\")\n",
        "print (\"--> BIGRAMS: \\n\" + str(bigrams[:5]) + \" ...\\n\")\n",
        "print (\"--> TRIGRAMS: \\n\" + str(trigrams[:5]) + \" ...\\n\")\n",
        "# print (\"--> UNIGRAMS: \\n\" + str(unigrams) + \" ...\\n\")\n",
        "# print (\"--> BIGRAMS: \\n\" + str(bigrams) + \" ...\\n\")\n",
        "# print (\"--> TRIGRAMS: \\n\" + str(trigrams) + \" ...\\n\")\n",
        "\n",
        "def processRemoveArticlePrepositionDeterminers(ngramList):\n",
        "    ngramListProcessed=[]\n",
        "    for ngram in ngramList:\n",
        "        ngramWithoutSW = [word for word in ngram if word not in stopwords.words('english')]\n",
        "        if len(ngramWithoutSW) != 0:\n",
        "            ngramListProcessed.append(ngram)\n",
        "    return ngramListProcessed\n",
        "\n",
        "unigrams_Processed = processRemoveArticlePrepositionDeterminers(unigrams)\n",
        "bigrams_Processed = processRemoveArticlePrepositionDeterminers(bigrams)\n",
        "trigrams_Processed = processRemoveArticlePrepositionDeterminers(trigrams)\n",
        "\n",
        "\n",
        "print (\"--> UNIGRAMS: \\n\" + str(unigrams_Processed[:5]) + \" ...\\n\")\n",
        "print (\"--> BIGRAMS: \\n\" + str(bigrams_Processed[:5]) + \" ...\\n\")\n",
        "print (\"--> TRIGRAMS: \\n\" + str(trigrams_Processed[:5]) + \" ...\\n\")\n",
        "\n",
        "\n",
        "\n",
        "# DONE\n",
        "\n",
        "# # list of unigram, bigram & trigram after removing those that \n",
        "# # totally contain only articles, prepositions, determiners\n",
        "# # Eg. For bigrams, don't remove items like (\"a\", \"boy\") --> where not all are \n",
        "# #     articles, prepositions, determiners\n",
        "# #     But remove items like (\"in\", \"the\") --> where all are articles, prepositions, determiners\n",
        "# # Similarly, for unigrams and trigrams\n",
        "# unigrams_Processed = # *** Write code ***\n",
        "# bigrams_Processed = # *** Write code ***\n",
        "# trigrams_Processed = # *** Write code ***\n",
        "\n",
        "# print (\"Sample of n-grams after processing:\\n\" + \"-------------------------\")\n",
        "# print (\"--> UNIGRAMS: \\n\" + str(unigrams_Processed[:5]) + \" ...\\n\")\n",
        "# print (\"--> BIGRAMS: \\n\" + str(bigrams_Processed[:5]) + \" ...\\n\")\n",
        "# print (\"--> TRIGRAMS: \\n\" + str(trigrams_Processed[:5]) + \" ...\\n\")\n",
        "\n",
        "\n",
        "def get_ngrams_freqDist(n, ngramList):\n",
        "    #This function computes the frequency corresponding to each ngram in ngramList \n",
        "    #Here, n=1 for unigram, n=2 for bigram, etc.\n",
        "    #ngramList = list of unigrams when n=1, ngramList = list of bigrams when n=2\n",
        "    #Returns: ngram_freq_dict (a Python dictionary where key = a ngram, value = its frequency)\n",
        "    ngram_freq_dict = {}    \n",
        "    # *** Write code ***\n",
        "    \n",
        "    for ngram in ngramList:\n",
        "        if ngram not in ngram_freq_dict:\n",
        "            ngram_freq_dict[ngram] = 0\n",
        "        ngram_freq_dict[ngram] += 1\n",
        "    \n",
        "    return ngram_freq_dict\n",
        "\n",
        "unigrams_freqDist = get_ngrams_freqDist(1, unigrams)\n",
        "unigrams_Processed_freqDist = get_ngrams_freqDist(1, unigrams_Processed)\n",
        "bigrams_freqDist = get_ngrams_freqDist(2, bigrams_Processed)\n",
        "bigrams_Processed_freqDist = get_ngrams_freqDist(2, bigrams_Processed)\n",
        "trigrams_freqDist = get_ngrams_freqDist(3, trigrams_Processed)\n",
        "trigrams_Processed_freqDist = get_ngrams_freqDist(3, trigrams_Processed) \n",
        "\n",
        "from collections import Counter\n",
        "\n",
        "# Print top 10 unigrams, having highest frequency as in unigrams_freqDist\n",
        "\n",
        "print('top 10 unigrams, having highest frequency as in unigrams_freqDist are: ', '')\n",
        "print(Counter(unigrams_freqDist).most_common(10))\n",
        "\n",
        "# Print top 10 unigrams, having highest frequency as in unigrams_Processed_freqDist\n",
        "\n",
        "print('top 10 unigrams, having highest frequency as in unigrams_Processed_freqDist are: ', '')\n",
        "print(Counter(unigrams_Processed_freqDist).most_common(10))\n",
        "\n",
        "# Print top 10 bigrams, having highest frequency as in bigrams_freqDist\n",
        "\n",
        "print('top 10 bigrams, having highest frequency as in bigrams_freqDist are: ', '')\n",
        "print(Counter(bigrams_freqDist).most_common(10))\n",
        "\n",
        "# Print top 10 bigrams, having highest frequency as in bigrams_Processed_freqDist\n",
        "\n",
        "print('top 10 bigrams, having highest frequency as in bigrams_Processed_freqDist are: ', '')\n",
        "print(Counter(bigrams_Processed_freqDist).most_common(10))\n",
        "\n",
        "# Print top 10 trigrams, having highest frequency as in trigrams_freqDist\n",
        "\n",
        "print('top 10 trigrams, having highest frequency as in trigrams_freqDist are: ', '')\n",
        "print(Counter(trigrams_freqDist).most_common(10))\n",
        "\n",
        "# Print top 10 trigrams, having highest frequency as in trigrams_Processed_freqDist\n",
        "\n",
        "print('top 10 trigrams, having highest frequency as in trigrams_Processed_freqDist are: ', '')\n",
        "print(Counter(trigrams_Processed_freqDist).most_common(10))\n",
        "\n",
        "# '''\n",
        "# def get_ngrams_freqDist(n, ngramList):\n",
        "#     #This function computes the frequency corresponding to each ngram in ngramList \n",
        "#     #Here, n=1 for unigram, n=2 for bigram, etc.\n",
        "#     #ngramList = list of unigrams when n=1, ngramList = list of bigrams when n=2\n",
        "#     #Returns: ngram_freq_dict (a Python dictionary where key = a ngram, value = its frequency)\n",
        "    \n",
        "#     # *** Write code ***\n",
        "    \n",
        "#     return ngram_freq_dict\n",
        "\n",
        "# unigrams_freqDist = get_ngrams_freqDist(1, unigrams)\n",
        "# unigrams_Processed_freqDist = get_ngrams_freqDist(1, unigrams_Processed)\n",
        "# bigrams_freqDist = get_ngrams_freqDist(2, bigrams_Processed)\n",
        "# bigrams_Processed_freqDist = get_ngrams_freqDist(2, bigrams_Processed)\n",
        "# trigrams_freqDist = get_ngrams_freqDist(3, trigrams_Processed)\n",
        "# trigrams_Processed_freqDist = get_ngrams_freqDist(3, trigrams_Processed)                                                 \n",
        "\n",
        "# # Print top 10 unigrams, having highest frequency as in unigrams_freqDist\n",
        "# # *** Write code ***\n",
        "\n",
        "# # Print top 10 unigrams, having highest frequency as in unigrams_Processed_freqDist\n",
        "# # *** Write code ***\n",
        "\n",
        "# # Print top 10 bigrams, having highest frequency as in bigrams_freqDist\n",
        "# # *** Write code ***\n",
        "\n",
        "# # Print top 10 bigrams, having highest frequency as in bigrams_Processed_freqDist\n",
        "# # *** Write code ***\n",
        "\n",
        "# # Print top 10 trigrams, having highest frequency as in trigrams_freqDist\n",
        "# # *** Write code ***\n",
        "\n",
        "# # Print top 10 trigrams, having highest frequency as in trigrams_Processed_freqDist\n",
        "# # *** Write code ***\n",
        "\n",
        "\n",
        "# '''"
      ],
      "execution_count": null,
      "outputs": [
        {
          "output_type": "stream",
          "name": "stdout",
          "text": [
            "Sample of n-grams:\n",
            "-------------------------\n",
            "--> UNIGRAMS: \n",
            "[('chapter',), ('i.',), ('treats',), ('of',), ('the',)] ...\n",
            "\n",
            "--> BIGRAMS: \n",
            "[('chapter', 'i.'), ('i.', 'treats'), ('treats', 'of'), ('of', 'the'), ('the', 'place')] ...\n",
            "\n",
            "--> TRIGRAMS: \n",
            "[('chapter', 'i.', 'treats'), ('i.', 'treats', 'of'), ('treats', 'of', 'the'), ('of', 'the', 'place'), ('the', 'place', 'where')] ...\n",
            "\n",
            "--> UNIGRAMS: \n",
            "[('chapter',), ('i.',), ('treats',), ('place',), ('oliver',)] ...\n",
            "\n",
            "--> BIGRAMS: \n",
            "[('chapter', 'i.'), ('i.', 'treats'), ('treats', 'of'), ('the', 'place'), ('place', 'where')] ...\n",
            "\n",
            "--> TRIGRAMS: \n",
            "[('chapter', 'i.', 'treats'), ('i.', 'treats', 'of'), ('treats', 'of', 'the'), ('of', 'the', 'place'), ('the', 'place', 'where')] ...\n",
            "\n",
            "top 10 unigrams, having highest frequency as in unigrams_freqDist are:  \n",
            "[(('the',), 1701), (('and',), 856), (('a',), 713), (('of',), 671), (('to',), 615), (('his',), 455), (('he',), 444), (('in',), 438), (('was',), 365), (('that',), 258)]\n",
            "top 10 unigrams, having highest frequency as in unigrams_Processed_freqDist are:  \n",
            "[(('oliver',), 242), (('said',), 212), (('mr.',), 190), (('bumble',), 102), (('gentleman',), 91), (('old',), 89), (('would',), 77), (('replied',), 74), (('one',), 67), (('mrs.',), 63)]\n",
            "top 10 bigrams, having highest frequency as in bigrams_freqDist are:  \n",
            "[(('said', 'the'), 90), (('mr.', 'bumble'), 90), (('the', 'old'), 53), (('said', 'mr.'), 35), (('old', 'gentleman'), 34), (('the', 'gentleman'), 31), (('the', 'boy'), 29), (('mr.', 'sowerberry'), 28), (('the', 'jew'), 28), (('the', 'undertaker'), 27)]\n",
            "top 10 bigrams, having highest frequency as in bigrams_Processed_freqDist are:  \n",
            "[(('said', 'the'), 90), (('mr.', 'bumble'), 90), (('the', 'old'), 53), (('said', 'mr.'), 35), (('old', 'gentleman'), 34), (('the', 'gentleman'), 31), (('the', 'boy'), 29), (('mr.', 'sowerberry'), 28), (('the', 'jew'), 28), (('the', 'undertaker'), 27)]\n",
            "top 10 trigrams, having highest frequency as in trigrams_freqDist are:  \n",
            "[(('the', 'old', 'gentleman'), 25), (('gentleman', 'in', 'the'), 22), (('the', 'gentleman', 'in'), 20), (('in', 'the', 'white'), 18), (('said', 'the', 'gentleman'), 14), (('said', 'mr.', 'bumble'), 12), (('the', 'white', 'waistcoat.'), 10), (('the', 'white', 'waistcoat'), 10), (('said', 'the', 'old'), 10), (('said', 'the', 'undertaker'), 10)]\n",
            "top 10 trigrams, having highest frequency as in trigrams_Processed_freqDist are:  \n",
            "[(('the', 'old', 'gentleman'), 25), (('gentleman', 'in', 'the'), 22), (('the', 'gentleman', 'in'), 20), (('in', 'the', 'white'), 18), (('said', 'the', 'gentleman'), 14), (('said', 'mr.', 'bumble'), 12), (('the', 'white', 'waistcoat.'), 10), (('the', 'white', 'waistcoat'), 10), (('said', 'the', 'old'), 10), (('said', 'the', 'undertaker'), 10)]\n"
          ]
        }
      ]
    },
    {
      "cell_type": "code",
      "metadata": {
        "id": "tVOTFuSuyHmU"
      },
      "source": [
        ""
      ],
      "execution_count": null,
      "outputs": []
    },
    {
      "cell_type": "markdown",
      "metadata": {
        "id": "Lqu8nVV7NREo"
      },
      "source": [
        "## **Next three words' Prediction using Smoothed Models**"
      ]
    },
    {
      "cell_type": "markdown",
      "metadata": {
        "id": "a2vnIM26b2WA"
      },
      "source": [
        "For a bigram model, add-one smoothing is defined by $P_{Add-1}(w_i|w_{i-1})=\\frac{count(w_{i-1},w_i)+1}{count(w_{i-1})+V}$.\n",
        "That is, pretend we saw each word one more time than we did.\n",
        "\n",
        "You have two tasks here.\n",
        "\n",
        "First, compute the smoothed bigram and trigram models from the bigrams_freqDist and trigrams_freqDist you calculated above (use the unprocessed models). Second, using these smoothed models, predict the next 3 possible word sequences for testSent1, testSent2 and testSent3, using your smoothed models.\n",
        "\n",
        "As for example, for the string 'Raj has a' the answers can be as below: \n",
        "\n",
        "(1) Raj has a **beautiful red car**\n",
        "\n",
        "(2) Raj has a **charismatic magnetic personality**"
      ]
    },
    {
      "cell_type": "code",
      "metadata": {
        "id": "qAGB1_S8NThy"
      },
      "source": [
        "testSent1 = \"There was a sudden jerk, a terrific convulsion of the limbs; and there he\"\n",
        "testSent2 = \"They made room for the stranger, but he sat down\"\n",
        "testSent3 = \"The hungry and destitute situation of the infant orphan was duly reported by\""
      ],
      "execution_count": null,
      "outputs": []
    },
    {
      "cell_type": "code",
      "metadata": {
        "id": "yLY1ymH-ZuJu",
        "colab": {
          "base_uri": "https://localhost:8080/",
          "height": 419
        },
        "outputId": "e7900fa7-577f-4699-8c0c-e7c49ff2a7c6"
      },
      "source": [
        "# *** Write code ***\n",
        "from nltk.probability import LaplaceProbDist\n",
        "from nltk.probability import FreqDist\n",
        "\n",
        "unigrams_freqDistLaplace = LaplaceProbDist(FreqDist(unigrams_freqDist))\n",
        "bigrams_freqDistLaplace = LaplaceProbDist(FreqDist(bigrams_freqDist))\n",
        "trigrams_freqDistLaplace = LaplaceProbDist(FreqDist(trigrams_freqDist))\n",
        "\n",
        "\n",
        "\n",
        "# import pandas as pd \n",
        "# pd.DataFrame(list(FreqDist(unigrams_freqDist).items()), columns = [\"Word\",\"Frequency\"]) "
      ],
      "execution_count": null,
      "outputs": [
        {
          "output_type": "execute_result",
          "data": {
            "text/html": [
              "<div>\n",
              "<style scoped>\n",
              "    .dataframe tbody tr th:only-of-type {\n",
              "        vertical-align: middle;\n",
              "    }\n",
              "\n",
              "    .dataframe tbody tr th {\n",
              "        vertical-align: top;\n",
              "    }\n",
              "\n",
              "    .dataframe thead th {\n",
              "        text-align: right;\n",
              "    }\n",
              "</style>\n",
              "<table border=\"1\" class=\"dataframe\">\n",
              "  <thead>\n",
              "    <tr style=\"text-align: right;\">\n",
              "      <th></th>\n",
              "      <th>Word</th>\n",
              "      <th>Frequency</th>\n",
              "    </tr>\n",
              "  </thead>\n",
              "  <tbody>\n",
              "    <tr>\n",
              "      <th>0</th>\n",
              "      <td>(chapter,)</td>\n",
              "      <td>11</td>\n",
              "    </tr>\n",
              "    <tr>\n",
              "      <th>1</th>\n",
              "      <td>(i.,)</td>\n",
              "      <td>1</td>\n",
              "    </tr>\n",
              "    <tr>\n",
              "      <th>2</th>\n",
              "      <td>(treats,)</td>\n",
              "      <td>2</td>\n",
              "    </tr>\n",
              "    <tr>\n",
              "      <th>3</th>\n",
              "      <td>(of,)</td>\n",
              "      <td>671</td>\n",
              "    </tr>\n",
              "    <tr>\n",
              "      <th>4</th>\n",
              "      <td>(the,)</td>\n",
              "      <td>1701</td>\n",
              "    </tr>\n",
              "    <tr>\n",
              "      <th>...</th>\n",
              "      <td>...</td>\n",
              "      <td>...</td>\n",
              "    </tr>\n",
              "    <tr>\n",
              "      <th>4879</th>\n",
              "      <td>(achieve,)</td>\n",
              "      <td>1</td>\n",
              "    </tr>\n",
              "    <tr>\n",
              "      <th>4880</th>\n",
              "      <td>(ahead,)</td>\n",
              "      <td>1</td>\n",
              "    </tr>\n",
              "    <tr>\n",
              "      <th>4881</th>\n",
              "      <td>(shouted,)</td>\n",
              "      <td>1</td>\n",
              "    </tr>\n",
              "    <tr>\n",
              "      <th>4882</th>\n",
              "      <td>(triumph,)</td>\n",
              "      <td>1</td>\n",
              "    </tr>\n",
              "    <tr>\n",
              "      <th>4883</th>\n",
              "      <td>(went.,)</td>\n",
              "      <td>1</td>\n",
              "    </tr>\n",
              "  </tbody>\n",
              "</table>\n",
              "<p>4884 rows × 2 columns</p>\n",
              "</div>"
            ],
            "text/plain": [
              "            Word  Frequency\n",
              "0     (chapter,)         11\n",
              "1          (i.,)          1\n",
              "2      (treats,)          2\n",
              "3          (of,)        671\n",
              "4         (the,)       1701\n",
              "...          ...        ...\n",
              "4879  (achieve,)          1\n",
              "4880    (ahead,)          1\n",
              "4881  (shouted,)          1\n",
              "4882  (triumph,)          1\n",
              "4883    (went.,)          1\n",
              "\n",
              "[4884 rows x 2 columns]"
            ]
          },
          "metadata": {},
          "execution_count": 17
        }
      ]
    },
    {
      "cell_type": "markdown",
      "metadata": {
        "id": "rxfeaacTdO6h"
      },
      "source": [
        "Check the presence of these sentences in the original corpus at https://www.gutenberg.org/files/730/730-0.txt . How did your smoothed models perform in comparison to the original sentences? Compare them below.\n",
        "\n",
        "Did you notice something special about testSent3, in comparison to testSent1 and testSent2? If yes, what is it? Can you explain it?\n",
        "\n"
      ]
    },
    {
      "cell_type": "markdown",
      "metadata": {
        "id": "nFMkW9hKecxK"
      },
      "source": [
        "  - - - - - - - - - -\n",
        "  ** Answer here ** \n",
        "   - - - - - - - - - -"
      ]
    },
    {
      "cell_type": "markdown",
      "metadata": {
        "id": "vVBMcaAJXR9S"
      },
      "source": [
        "Which of the three models you generated above (unigram, bigram, trigram) is better in terms of **perplexity**, for the three test sentences (unseen data)? Write a piece of code to justify your answer. "
      ]
    },
    {
      "cell_type": "markdown",
      "metadata": {
        "id": "AAPa1OVZX8uN"
      },
      "source": [
        "  - - - - - - - - - -\n",
        "  ** Answer here ** \n",
        "   - - - - - - - - - -"
      ]
    }
  ]
}