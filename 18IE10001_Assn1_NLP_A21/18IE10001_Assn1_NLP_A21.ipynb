{
  "nbformat": 4,
  "nbformat_minor": 0,
  "metadata": {
    "colab": {
      "name": "NLP_CS60075_A21_Assn1_18IE10001.ipynb",
      "provenance": [],
      "collapsed_sections": []
    },
    "kernelspec": {
      "name": "python3",
      "display_name": "Python 3"
    },
    "language_info": {
      "name": "python"
    },
    "accelerator": "GPU"
  },
  "cells": [
    {
      "cell_type": "markdown",
      "metadata": {
        "id": "4Z_wN2v1RT1F"
      },
      "source": [
        "# **Assignment-1 for CS60075: Natural Language Processing**\n",
        "\n",
        "#### Instructor : Prof. Sudeshna Sarkar\n",
        "\n",
        "#### Teaching Assistants : Alapan Kuila, Aniruddha Roy, Prithwish Jana, Udit Dharmin Desai\n",
        "\n",
        "#### Date of Announcement: 4th Sept, 2021\n",
        "#### Deadline for Submission: 11.59pm on Sunday, 12th Sept, 2021 \n",
        "\n",
        "#### (**NOTE**: Submit a .zip file, containing this .ipynb file, named as `<Your_Roll_Number>_Assn1_NLP_A21.ipynb` and the raw text corpus named `<Your_Roll_Number>_Assn1_rawCorpus.txt`. For example, if your roll number is 20XX12Y45, name the .ipynb file as `20XX12Y45_Assn1_NLP_A21.ipynb`. Name the .zip as `<Your_Roll_Number>_Assn1_NLP_A21.zip`. Write your code in the respective designated portion of the .ipynb. Also before submitting, make sure that all the outputs of your code are present in the .ipynb file itself.)"
      ]
    },
    {
      "cell_type": "markdown",
      "metadata": {
        "id": "3a35tmEySCx7"
      },
      "source": [
        "### **Submission Details:**\n",
        "Name: Abhijay Mitra\n",
        "\n",
        "Roll No.: 18IE10001\n",
        "\n",
        "Department: Electrical Engineering\n",
        "\n",
        "Email-ID: mitraabhijay@gmail.com"
      ]
    },
    {
      "cell_type": "markdown",
      "metadata": {
        "id": "9weHMmyd8fnq"
      },
      "source": [
        "## **Reading a Raw Text Corpus**"
      ]
    },
    {
      "cell_type": "markdown",
      "metadata": {
        "id": "DmSy_LOK2aGQ"
      },
      "source": [
        "Retrieve & save raw corpus"
      ]
    },
    {
      "cell_type": "code",
      "metadata": {
        "id": "rku6rV2ORpZA"
      },
      "source": [
        "# To construct your corpus, retrieve (through Python code) Chapter I to Chapter X,\n",
        "# both inclusive, from the link below:\n",
        "# \"https://www.gutenberg.org/files/730/730-0.txt\"\n",
        "# Save this corpus in a text file, named as 'rawCorpus.txt'\n",
        "# Print the total number of characters in the text file \n",
        "\n",
        "# *** Write code ***\n",
        "\n",
        "from urllib.request import urlopen\n",
        "with urlopen('https://www.gutenberg.org/files/730/730-0.txt') as url:\n",
        "    textFile = url.read().decode('utf8');\n",
        "insideFlag = 0\n",
        "\n",
        "\n",
        "startPos = textFile.find('CHAPTER I')\n",
        "endinPos = textFile.find('CHAPTER XI')\n",
        "\n",
        "text = textFile[startPos: endinPos] \n",
        "\n",
        "corpusFile = open('rawCorpus.txt', 'w')\n",
        "corpusFile.write(text)\n",
        "corpusFile.close()"
      ],
      "execution_count": 1,
      "outputs": []
    },
    {
      "cell_type": "markdown",
      "metadata": {
        "id": "6KZIOy0Y2hzQ"
      },
      "source": [
        "Read the corpus"
      ]
    },
    {
      "cell_type": "code",
      "metadata": {
        "id": "DsdBJa_l2l7g",
        "colab": {
          "base_uri": "https://localhost:8080/"
        },
        "outputId": "76040f4a-0f0f-4664-841d-dc2b202bbc32"
      },
      "source": [
        "# Read the corpus from rawCorpus.txt, in a variable `rawReadCorpus`\n",
        "# *** Write code ***\n",
        "\n",
        "rawReadCorpus = open('rawCorpus.txt', 'r').read()\n",
        "\n",
        "print (\"Total # of characters in read dataset: {}\".format(len(rawReadCorpus)))"
      ],
      "execution_count": 2,
      "outputs": [
        {
          "output_type": "stream",
          "name": "stdout",
          "text": [
            "Total # of characters in read dataset: 148717\n"
          ]
        }
      ]
    },
    {
      "cell_type": "markdown",
      "metadata": {
        "id": "xhkmGsSoV0zG"
      },
      "source": [
        "## **Installing NLTK**\n",
        "\n",
        "The Natural Language Toolkit ([NLTK](https://www.nltk.org/)) is a Python module that is intended to support research and teaching in NLP or closely related areas. \n",
        "\n",
        "Detailed installation instructions to install NLTK can be found at this [link](https://www.nltk.org/install.html).\n",
        "\n",
        "To ensure uniformity, we suggest to use **python3**. You can download Anaconda3 and create a separate environment to do this assignment, eg.\n",
        "```bash\n",
        "conda create -n myenv python=3.6\n",
        "conda activate myenv\n",
        "```\n",
        "\n",
        "The link to anaconda3 for Windows and Linux is available here https://docs.anaconda.com/anaconda/install/. Subsequently, you can install NLTK through the following commands:\n",
        "```bash\n",
        "sudo pip3 install nltk \n",
        "python3 \n",
        "nltk.download()\n",
        "```"
      ]
    },
    {
      "cell_type": "markdown",
      "metadata": {
        "id": "utKtZeHq4N98"
      },
      "source": [
        "## **Preprocessing the corpus**"
      ]
    },
    {
      "cell_type": "markdown",
      "metadata": {
        "id": "_gP9ihZnn_9W"
      },
      "source": [
        ""
      ]
    },
    {
      "cell_type": "markdown",
      "metadata": {
        "id": "5-LSUX__82Ff"
      },
      "source": [
        "**Tokenize into words and sentences, using NLTK library:** Using the NLTK modules imported above, retrieve a case-insensitive preprocessed model. Make sure to take care of words like \"\\_will\\_\" (that should ideally appear as \"will\"), \"wouldn't\" (that should ideally appear as a single word, and not multiple tokens) and other occurences of special cases that you find in the raw corpus. "
      ]
    },
    {
      "cell_type": "code",
      "metadata": {
        "id": "2g7eO4Dm4jIn",
        "colab": {
          "base_uri": "https://localhost:8080/"
        },
        "outputId": "a21c93f5-e62b-4891-8270-2f5d7dcc385b"
      },
      "source": [
        "# Importing modules\n",
        "import nltk\n",
        "nltk.download('punkt') # For tokenizers\n",
        "from nltk.tokenize import word_tokenize,sent_tokenize"
      ],
      "execution_count": 3,
      "outputs": [
        {
          "output_type": "stream",
          "name": "stdout",
          "text": [
            "[nltk_data] Downloading package punkt to /root/nltk_data...\n",
            "[nltk_data]   Unzipping tokenizers/punkt.zip.\n"
          ]
        }
      ]
    },
    {
      "cell_type": "code",
      "metadata": {
        "id": "cWIzYXyz9Zt_",
        "colab": {
          "base_uri": "https://localhost:8080/"
        },
        "outputId": "50b8cb86-11a4-4461-c5c7-36b349f6326c"
      },
      "source": [
        "# *** Write code for preprocessing the corpus ***\n",
        "\n",
        "text = rawReadCorpus.replace('\\n', ' ')\n",
        "\n",
        "def tokenisationMethodForSent(text):\n",
        "\n",
        "    unwantedPunctuations = '\\\"’—”“\"#$%&()*+,-/:;<=>?@[\\]^_`{|}'\n",
        "\n",
        "    text = \"\".join([char for char in text if char not in unwantedPunctuations])\n",
        "\n",
        "    text = sent_tokenize(text)\n",
        "\n",
        "    return [item.lower() for item in text]\n",
        "\n",
        "def tokenisationMethodForWord(text):\n",
        "\n",
        "    unwantedPunctuations = '\\\"’—”“\"#$%&()*+,-/:;<=>@[\\]^_`{|}'\n",
        "\n",
        "    text = \"\".join([char for char in text if char not in unwantedPunctuations])\n",
        "\n",
        "    text = text.replace('.', ' ')\n",
        "    text = text.replace('?', ' ')\n",
        "    text = text.replace('!', ' ')\n",
        "    \n",
        "    text = word_tokenize(text)\n",
        "\n",
        "    return [item.lower() for item in text]\n",
        "\n",
        "textTokenisedToSent = tokenisationMethodForSent(text)\n",
        "textTokenisedToWord = tokenisationMethodForWord(text)\n",
        "\n",
        "# Print first 5 sentences of your preprocessed corpus *** Write code ***\n",
        "# Print first 5 words/tokens of your preprocessed corpus *** Write code ***\n",
        "\n",
        "print('First 5 sentences are: ', textTokenisedToSent[:5])\n",
        "print('First 5 words are:     ', textTokenisedToWord[:5])"
      ],
      "execution_count": 4,
      "outputs": [
        {
          "output_type": "stream",
          "name": "stdout",
          "text": [
            "First 5 sentences are:  ['chapter i.', 'treats of the place where oliver twist was born and of the circumstances attending his birth   among other public buildings in a certain town which for many reasons it will be prudent to refrain from mentioning and to which i will assign no fictitious name there is one anciently common to most towns great or small to wit a workhouse and in this workhouse was born on a day and date which i need not trouble myself to repeat inasmuch as it can be of no possible consequence to the reader in this stage of the business at all events the item of mortality whose name is prefixed to the head of this chapter.', 'for a long time after it was ushered into this world of sorrow and trouble by the parish surgeon it remained a matter of considerable doubt whether the child would survive to bear any name at all in which case it is somewhat more than probable that these memoirs would never have appeared or if they had that being comprised within a couple of pages they would have possessed the inestimable merit of being the most concise and faithful specimen of biography extant in the literature of any age or country.', 'although i am not disposed to maintain that the being born in a workhouse is in itself the most fortunate and enviable circumstance that can possibly befall a human being i do mean to say that in this particular instance it was the best thing for oliver twist that could by possibility have occurred.', 'the fact is that there was considerable difficulty in inducing oliver to take upon himself the office of respirationa troublesome practice but one which custom has rendered necessary to our easy existence and for some time he lay gasping on a little flock mattress rather unequally poised between this world and the next the balance being decidedly in favour of the latter.']\n",
            "First 5 words are:      ['chapter', 'i', 'treats', 'of', 'the']\n"
          ]
        }
      ]
    },
    {
      "cell_type": "markdown",
      "metadata": {
        "id": "eZ75_a1QL70J"
      },
      "source": [
        "**Perform the following tasks for the given corpus:**\n",
        "1. Print the average number of tokens per sentence.\n",
        "2. Print the length of the longest and the shortest sentence, that contains the word 'Oliver' ('Oliver' is case-insensitive).\n",
        "3. Print the number of unique tokens in the corpus, after stopword removal using the stopwords from NLTK (case-insensitive)."
      ]
    },
    {
      "cell_type": "code",
      "metadata": {
        "id": "pyG0g3oSADmV",
        "colab": {
          "base_uri": "https://localhost:8080/"
        },
        "outputId": "79db9941-c8f1-487b-cb7c-71ad91a673c5"
      },
      "source": [
        "# Importing modules\n",
        "nltk.download('stopwords')\n",
        "from nltk.corpus import stopwords"
      ],
      "execution_count": 5,
      "outputs": [
        {
          "output_type": "stream",
          "name": "stdout",
          "text": [
            "[nltk_data] Downloading package stopwords to /root/nltk_data...\n",
            "[nltk_data]   Unzipping corpora/stopwords.zip.\n"
          ]
        }
      ]
    },
    {
      "cell_type": "code",
      "metadata": {
        "id": "ydHIxC7lG7Py",
        "colab": {
          "base_uri": "https://localhost:8080/"
        },
        "outputId": "5d22051b-ddd6-45c1-9420-748206b52955"
      },
      "source": [
        "# *** Write code for the 2 tasks above ***\n",
        "\n",
        "print('1. The average number of tokens per sentence is: ' + str(len(textTokenisedToWord) / len(textTokenisedToSent)))\n",
        "\n",
        "maxLengthWithOliver = float('-inf')\n",
        "minLengthWithOliver = float('inf')\n",
        "\n",
        "for sent in textTokenisedToSent:\n",
        "    if 'Oliver'.lower() in sent:\n",
        "        maxLengthWithOliver = max(maxLengthWithOliver, len(sent))\n",
        "        minLengthWithOliver = min(minLengthWithOliver, len(sent))\n",
        "\n",
        "print('2.a. Length of the longest sentence with word \\'Oliver\\' is: ' + str(maxLengthWithOliver) + ' characters')\n",
        "print('2.b. Length of the shortest sentence with word \\'Oliver\\' is: ' + str(minLengthWithOliver) + ' characters')\n",
        "\n",
        "# removing stopwords\n",
        "tokensWithoutSw = [word for word in textTokenisedToWord if word not in stopwords.words('english')]\n",
        "\n",
        "# only storing unique words\n",
        "tokensUnique    = set(tokensWithoutSw)\n",
        "\n",
        "print('3. The number of unique tokens in the corpus, after stopword removal is: ' + str(len(tokensUnique)))"
      ],
      "execution_count": 6,
      "outputs": [
        {
          "output_type": "stream",
          "name": "stdout",
          "text": [
            "1. The average number of tokens per sentence is: 19.928134556574925\n",
            "2.a. Length of the longest sentence with word 'Oliver' is: 631 characters\n",
            "2.b. Length of the shortest sentence with word 'Oliver' is: 7 characters\n",
            "3. The number of unique tokens in the corpus, after stopword removal is: 4206\n"
          ]
        }
      ]
    },
    {
      "cell_type": "markdown",
      "metadata": {
        "id": "X5RiDR7TJjKX"
      },
      "source": [
        "## **Language Modeling**"
      ]
    },
    {
      "cell_type": "markdown",
      "metadata": {
        "id": "UJeTSt8HM95L"
      },
      "source": [
        "### Task: In this sub-task, you are expected to carry out the following tasks:\n",
        "\n",
        "1. **Create the following language models** on the given corpus: <br>\n",
        "    i.   Unigram <br>\n",
        "    ii.  Bigram <br>\n",
        "    iii. Trigram <br>\n",
        "\n",
        "2. **List the top 10 bigrams, trigrams**\n",
        "(Additionally remove those items which contain only articles, prepositions, determiners eg. \"of the\", \"in a\", etc. List top-10 bigrams/trigrams in both the original and processed models)."
      ]
    },
    {
      "cell_type": "code",
      "metadata": {
        "id": "DlPXGvVaR-ka",
        "colab": {
          "base_uri": "https://localhost:8080/"
        },
        "outputId": "4ca31ae4-2b06-43ec-a14d-5514065da7b6"
      },
      "source": [
        "from nltk.util import ngrams\n",
        "\n",
        "unigrams=[]\n",
        "unigrams_Processed=[]\n",
        "bigrams=[]\n",
        "trigrams=[]\n",
        "tokenized_text = []\n",
        "\n",
        "stop_words = set(stopwords.words('english'))\n",
        "\n",
        "for content in textTokenisedToSent:\n",
        "    # *** Write code ***\n",
        "\n",
        "    sequence = tokenisationMethodForWord(content)\n",
        "\n",
        "    for word in sequence:\n",
        "        if (word == '.'):\n",
        "            sequence.remove(word) \n",
        "        else:\n",
        "            unigrams.append(word)\n",
        "            if word not in stop_words:\n",
        "                unigrams_Processed.append(word)\n",
        "\n",
        "    tokenized_text.append(sequence) \n",
        "\n",
        "    if len(content.split()) > 1:\n",
        "        bigrams.extend(list(ngrams(sequence, 2)))\n",
        "    if len(content.split()) > 2:\n",
        "        trigrams.extend(list(ngrams(sequence, 3)))\n",
        "\n",
        "print (\"Sample of n-grams:\\n\" + \"-------------------------\")\n",
        "print (\"--> UNIGRAMS: \\n\" + str(unigrams[:5]) + \" ...\\n\")\n",
        "print (\"--> BIGRAMS: \\n\" + str(bigrams[:5]) + \" ...\\n\")\n",
        "print (\"--> TRIGRAMS: \\n\" + str(trigrams[:5]) + \" ...\\n\")\n",
        "\n",
        "def removal(wordList):\n",
        "#removes ngrams containing only stopwords\n",
        "    wordListWithoutSw = []\n",
        "    for words in wordList:\n",
        "        flag = 0\n",
        "        for word in words:\n",
        "            if word in stop_words:\n",
        "                flag = flag or 0\n",
        "            else:\n",
        "                flag = flag or 1\n",
        "        if flag == 1:\n",
        "            wordListWithoutSw.append(words)\n",
        "    return wordListWithoutSw\n",
        "\n",
        "bigrams_Processed = removal(bigrams)\n",
        "trigrams_Processed = removal(trigrams) \n",
        "\n",
        "print (\"Sample of n-grams after processing:\\n\" + \"-------------------------\")\n",
        "print (\"--> UNIGRAMS: \\n\" + str(unigrams_Processed[:5]) + \" ...\\n\")\n",
        "print (\"--> BIGRAMS: \\n\" + str(bigrams_Processed[:5]) + \" ...\\n\")\n",
        "print (\"--> TRIGRAMS: \\n\" + str(trigrams_Processed[:5]) + \" ...\\n\")\n",
        "\n",
        "def get_ngrams_freqDist(n, ngramList):\n",
        "    #This function computes the frequency corresponding to each ngram in ngramList \n",
        "    #Here, n=1 for unigram, n=2 for bigram, etc.\n",
        "    #ngramList = list of unigrams when n=1, ngramList = list of bigrams when n=2\n",
        "    #Returns: ngram_freq_dict (a Python dictionary where key = a ngram, value = its frequency)\n",
        "    \n",
        "    # *** Write code ***\n",
        "    \n",
        "    return nltk.FreqDist(ngramList)\n",
        "\n",
        "unigrams_freqDist = get_ngrams_freqDist(1, unigrams)\n",
        "unigrams_Processed_freqDist = get_ngrams_freqDist(1, unigrams_Processed)\n",
        "bigrams_freqDist = get_ngrams_freqDist(2, bigrams)\n",
        "bigrams_Processed_freqDist = get_ngrams_freqDist(2, bigrams_Processed)\n",
        "trigrams_freqDist = get_ngrams_freqDist(3, trigrams)\n",
        "trigrams_Processed_freqDist = get_ngrams_freqDist(3, trigrams_Processed)\n",
        "\n",
        "print('top 10 unigrams, having highest frequency as in unigrams_freqDist are: ', '')\n",
        "print(unigrams_freqDist.most_common(10))\n",
        "\n",
        "# Print top 10 unigrams, having highest frequency as in unigrams_Processed_freqDist\n",
        "\n",
        "print('top 10 unigrams, having highest frequency as in unigrams_Processed_freqDist are: ', '')\n",
        "print(unigrams_Processed_freqDist.most_common(10))\n",
        "\n",
        "# Print top 10 bigrams, having highest frequency as in bigrams_freqDist\n",
        "\n",
        "print('top 10 bigrams, having highest frequency as in bigrams_freqDist are: ', '')\n",
        "print(bigrams_freqDist.most_common(10))\n",
        "\n",
        "# Print top 10 bigrams, having highest frequency as in bigrams_Processed_freqDist\n",
        "\n",
        "print('top 10 bigrams, having highest frequency as in bigrams_Processed_freqDist are: ', '')\n",
        "print(bigrams_Processed_freqDist.most_common(10))\n",
        "\n",
        "# Print top 10 trigrams, having highest frequency as in trigrams_freqDist\n",
        "\n",
        "print('top 10 trigrams, having highest frequency as in trigrams_freqDist are: ', '')\n",
        "print(trigrams_freqDist.most_common(10))\n",
        "\n",
        "# Print top 10 trigrams, having highest frequency as in trigrams_Processed_freqDist\n",
        "\n",
        "print('top 10 trigrams, having highest frequency as in trigrams_Processed_freqDist are: ', '')\n",
        "print(trigrams_Processed_freqDist.most_common(10))"
      ],
      "execution_count": 7,
      "outputs": [
        {
          "output_type": "stream",
          "name": "stdout",
          "text": [
            "Sample of n-grams:\n",
            "-------------------------\n",
            "--> UNIGRAMS: \n",
            "['chapter', 'i', 'treats', 'of', 'the'] ...\n",
            "\n",
            "--> BIGRAMS: \n",
            "[('chapter', 'i'), ('treats', 'of'), ('of', 'the'), ('the', 'place'), ('place', 'where')] ...\n",
            "\n",
            "--> TRIGRAMS: \n",
            "[('treats', 'of', 'the'), ('of', 'the', 'place'), ('the', 'place', 'where'), ('place', 'where', 'oliver'), ('where', 'oliver', 'twist')] ...\n",
            "\n",
            "Sample of n-grams after processing:\n",
            "-------------------------\n",
            "--> UNIGRAMS: \n",
            "['chapter', 'treats', 'place', 'oliver', 'twist'] ...\n",
            "\n",
            "--> BIGRAMS: \n",
            "[('chapter', 'i'), ('treats', 'of'), ('the', 'place'), ('place', 'where'), ('where', 'oliver')] ...\n",
            "\n",
            "--> TRIGRAMS: \n",
            "[('treats', 'of', 'the'), ('of', 'the', 'place'), ('the', 'place', 'where'), ('place', 'where', 'oliver'), ('where', 'oliver', 'twist')] ...\n",
            "\n",
            "top 10 unigrams, having highest frequency as in unigrams_freqDist are:  \n",
            "[('the', 1701), ('and', 857), ('a', 713), ('of', 673), ('to', 618), ('his', 455), ('he', 449), ('in', 441), ('was', 368), ('oliver', 278)]\n",
            "top 10 unigrams, having highest frequency as in unigrams_Processed_freqDist are:  \n",
            "[('oliver', 278), ('said', 212), ('mr', 191), ('bumble', 123), ('gentleman', 102), ('old', 89), ('would', 77), ('sowerberry', 77), ('replied', 74), ('boy', 74)]\n",
            "top 10 bigrams, having highest frequency as in bigrams_freqDist are:  \n",
            "[(('of', 'the'), 162), (('in', 'the'), 127), (('mr', 'bumble'), 108), (('to', 'the'), 91), (('said', 'the'), 90), (('he', 'had'), 67), (('he', 'was'), 62), (('on', 'the'), 60), (('in', 'a'), 55), (('with', 'a'), 54)]\n",
            "top 10 bigrams, having highest frequency as in bigrams_Processed_freqDist are:  \n",
            "[(('mr', 'bumble'), 108), (('said', 'the'), 90), (('the', 'old'), 53), (('old', 'gentleman'), 39), (('the', 'undertaker'), 36), (('said', 'mr'), 35), (('the', 'boy'), 35), (('the', 'gentleman'), 33), (('mrs', 'sowerberry'), 33), (('the', 'jew'), 33)]\n",
            "top 10 trigrams, having highest frequency as in trigrams_freqDist are:  \n",
            "[(('the', 'old', 'gentleman'), 29), (('gentleman', 'in', 'the'), 22), (('the', 'gentleman', 'in'), 20), (('the', 'white', 'waistcoat'), 20), (('said', 'mr', 'bumble'), 19), (('in', 'the', 'white'), 18), (('said', 'the', 'gentleman'), 14), (('said', 'the', 'undertaker'), 14), (('said', 'the', 'jew'), 14), (('sir', 'replied', 'oliver'), 12)]\n",
            "top 10 trigrams, having highest frequency as in trigrams_Processed_freqDist are:  \n",
            "[(('the', 'old', 'gentleman'), 29), (('gentleman', 'in', 'the'), 22), (('the', 'gentleman', 'in'), 20), (('the', 'white', 'waistcoat'), 20), (('said', 'mr', 'bumble'), 19), (('in', 'the', 'white'), 18), (('said', 'the', 'gentleman'), 14), (('said', 'the', 'undertaker'), 14), (('said', 'the', 'jew'), 14), (('sir', 'replied', 'oliver'), 12)]\n"
          ]
        }
      ]
    },
    {
      "cell_type": "markdown",
      "metadata": {
        "id": "Lqu8nVV7NREo"
      },
      "source": [
        "## **Next three words' Prediction using Smoothed Models**"
      ]
    },
    {
      "cell_type": "markdown",
      "metadata": {
        "id": "a2vnIM26b2WA"
      },
      "source": [
        "For a bigram model, add-one smoothing is defined by $P_{Add-1}(w_i|w_{i-1})=\\frac{count(w_{i-1},w_i)+1}{count(w_{i-1})+V}$.\n",
        "That is, pretend we saw each word one more time than we did.\n",
        "\n",
        "You have two tasks here.\n",
        "\n",
        "First, compute the smoothed bigram and trigram models from the bigrams_freqDist and trigrams_freqDist you calculated above (use the unprocessed models). Second, using these smoothed models, predict the next 3 possible word sequences for testSent1, testSent2 and testSent3, using your smoothed models.\n",
        "\n",
        "As for example, for the string 'Raj has a' the answers can be as below: \n",
        "\n",
        "(1) Raj has a **beautiful red car**\n",
        "\n",
        "(2) Raj has a **charismatic magnetic personality**"
      ]
    },
    {
      "cell_type": "code",
      "metadata": {
        "id": "qAGB1_S8NThy"
      },
      "source": [
        "testSent1 = \"There was a sudden jerk, a terrific convulsion of the limbs; and there he\"\n",
        "testSent2 = \"They made room for the stranger, but he sat down\"\n",
        "testSent3 = \"The hungry and destitute situation of the infant orphan was duly reported by\""
      ],
      "execution_count": 8,
      "outputs": []
    },
    {
      "cell_type": "code",
      "metadata": {
        "id": "tWd8qiSMgrtT",
        "colab": {
          "base_uri": "https://localhost:8080/"
        },
        "outputId": "ddadc28c-0051-4410-e94e-768d5b30ab16"
      },
      "source": [
        "from nltk.probability import LaplaceProbDist\n",
        "from nltk.probability import FreqDist\n",
        "\n",
        "nGrams = {1:[], 2:[], 3:[]}\n",
        "for i in range(3):\n",
        "    for each in tokenized_text:\n",
        "        if len(each) > i:\n",
        "            for j in ngrams(each, i+1):\n",
        "                nGrams[i+1].append(j);\n",
        "nGramsVoc = {1:set([]), 2:set([]), 3:set([])}\n",
        "for i in range(3):\n",
        "    for gram in nGrams[i+1]:\n",
        "        if gram not in nGramsVoc[i+1]:\n",
        "            nGramsVoc[i+1].add(gram)\n",
        "total_ngrams = {1:-1, 2:-1, 3:-1}\n",
        "total_voc = {1:-1, 2:-1, 3:-1}\n",
        "for i in range(3):\n",
        "    total_ngrams[i+1] = len(nGrams[i+1])\n",
        "    total_voc[i+1] = len(nGramsVoc[i+1])                       \n",
        "ngrams_prob = {1:[], 2:[], 3:[]}\n",
        "for i in range(3):\n",
        "    for ngram in nGramsVoc[i+1]:\n",
        "        tlist = [ngram]\n",
        "        tlist.append(nGrams[i+1].count(ngram))\n",
        "        ngrams_prob[i+1].append(tlist)\n",
        "for i in range(3):\n",
        "    for ngram in ngrams_prob[i+1]:\n",
        "        ngram[-1] = (ngram[-1]+1)/(total_ngrams[i+1]+total_voc[i+1]) \n",
        "\n",
        "#Prints top 10 unigram, bigram, trigram after smoothing\n",
        "print(\"Most common n-grams without stopword removal and with add-1 smoothing: \\n\")\n",
        "for i in range(3):\n",
        "    ngrams_prob[i+1] = sorted(ngrams_prob[i+1], key = lambda x:x[1], reverse = True)\n",
        "    \n",
        "print (\"Most common unigrams: \", str(ngrams_prob[1][:10]))\n",
        "print (\"\\nMost common bigrams: \", str(ngrams_prob[2][:10]))\n",
        "print (\"\\nMost common trigrams: \", str(ngrams_prob[3][:10]))\n",
        "\n",
        "#smoothed models without stopwords removed are used\n",
        "token_1 = word_tokenize(testSent1)\n",
        "token_2 = word_tokenize(testSent2)\n",
        "token_3 = word_tokenize(testSent3)\n",
        "ngram_1 = {1:[], 2:[], 3:[]}   #to store the n-grams formed  \n",
        "ngram_2 = {1:[], 2:[], 3:[]}\n",
        "ngram_3 = {1:[], 2:[], 3:[]}\n",
        "for i in range(3):\n",
        "    ngram_1[i+1] = list(ngrams(token_1, i+1))[-1]\n",
        "    ngram_2[i+1] = list(ngrams(token_2, i+1))[-1]\n",
        "    ngram_3[i+1] = list(ngrams(token_3, i+1))[-1]\n",
        "\n",
        "for i in range(3):\n",
        "    ngrams_prob[i+1] = sorted(ngrams_prob[i+1], key = lambda x:x[1], reverse = True)\n",
        "    \n",
        "pred_1 = {1:[], 2:[], 3:[]}\n",
        "for i in range(3):\n",
        "    count = 0\n",
        "    if len(ngrams_prob) > i + 2:\n",
        "        for each in ngrams_prob[i+2]:\n",
        "            if each[0][:-1] == ngram_1[i+1]:      \n",
        "                count +=1\n",
        "                pred_1[i+1].append(each[0][-1])\n",
        "                if count == 3:\n",
        "                    break\n",
        "for i in range(3):\n",
        "    ngrams_prob[i+1] = sorted(ngrams_prob[i+1], key = lambda x:x[1], reverse = True)\n",
        "    \n",
        "pred_2 = {1:[], 2:[], 3:[]}\n",
        "for i in range(3):\n",
        "    count = 0\n",
        "    if len(ngrams_prob) > i + 2:\n",
        "        for each in ngrams_prob[i+2]:\n",
        "            if each[0][:-1] == ngram_2[i+1]:\n",
        "                count +=1\n",
        "                pred_2[i+1].append(each[0][-1])\n",
        "                if count == 3:\n",
        "                    break\n",
        "\n",
        "pred_3 = {1:[], 2:[], 3:[]}\n",
        "for i in range(3):\n",
        "    count = 0\n",
        "    if len(ngrams_prob) > i + 2:\n",
        "        for each in ngrams_prob[i+2]:\n",
        "            if each[0][:-1] == ngram_3[i+1]:\n",
        "                count +=1\n",
        "                pred_3[i+1].append(each[0][-1])\n",
        "                if count == 3:\n",
        "                    break\n",
        "\n",
        "print(\"Next word predictions for the strings using the probability models of bigrams, trigrams\\n\")\n",
        "print(\"String 1: \" + testSent1)\n",
        "print(\"Bigram model predictions: {}\" .format(pred_1[1]))\n",
        "print(\"String 2: \" + testSent2)\n",
        "print(\"Bigram model predictions: {}\" .format(pred_2[1]))\n",
        "print(\"String 3: \" + testSent3)\n",
        "print(\"Bigram model predictions: {}\" .format(pred_3[1]))\n"
      ],
      "execution_count": 9,
      "outputs": [
        {
          "output_type": "stream",
          "name": "stdout",
          "text": [
            "Most common n-grams without stopword removal and with add-1 smoothing: \n",
            "\n",
            "Most common unigrams:  [[('the',), 0.056003422065743144], [('and',), 0.02823204238096805], [('a',), 0.023493797505840543], [('of',), 0.02217761837386068], [('to',), 0.02036787206738837], [('his',), 0.015004442104570432], [('he',), 0.014807015234773452], [('in',), 0.014543779408377481], [('was',), 0.012141752492514231], [('oliver',), 0.009180349445559541]]\n",
            "\n",
            "Most common bigrams:  [[('of', 'the'), 0.003980755610911667], [('in', 'the'), 0.0031259921361760324], [('mr', 'bumble'), 0.0026619776784624024], [('to', 'the'), 0.0022468068478765234], [('said', 'the'), 0.002222385034312648], [('he', 'had'), 0.0016606833223435172], [('he', 'was'), 0.001538574254524141], [('on', 'the'), 0.0014897306273963904], [('in', 'a'), 0.0013676215595770141], [('with', 'a'), 0.0013431997460131388]]\n",
            "\n",
            "Most common trigrams:  [[('the', 'old', 'gentleman'), 0.0006625880689975043], [('gentleman', 'in', 'the'), 0.0005079841862314199], [('the', 'gentleman', 'in'), 0.000463811648298253], [('the', 'white', 'waistcoat'), 0.000463811648298253], [('said', 'mr', 'bumble'), 0.0004417253793316695], [('in', 'the', 'white'), 0.000419639110365086], [('said', 'the', 'jew'), 0.00033129403449875215], [('said', 'the', 'gentleman'), 0.00033129403449875215], [('said', 'the', 'undertaker'), 0.00033129403449875215], [('sir', 'replied', 'oliver'), 0.0002871214965655852]]\n",
            "Next word predictions for the strings using the probability models of bigrams, trigrams\n",
            "\n",
            "String 1: There was a sudden jerk, a terrific convulsion of the limbs; and there he\n",
            "Bigram model predictions: ['had', 'was', 'would']\n",
            "String 2: They made room for the stranger, but he sat down\n",
            "Bigram model predictions: ['the', 'a', 'to']\n",
            "String 3: The hungry and destitute situation of the infant orphan was duly reported by\n",
            "Bigram model predictions: ['the', 'a', 'this']\n"
          ]
        }
      ]
    },
    {
      "cell_type": "markdown",
      "metadata": {
        "id": "rxfeaacTdO6h"
      },
      "source": [
        "Check the presence of these sentences in the original corpus at https://www.gutenberg.org/files/730/730-0.txt . How did your smoothed models perform in comparison to the original sentences? Compare them below.\n",
        "\n",
        "Did you notice something special about testSent3, in comparison to testSent1 and testSent2? If yes, what is it? Can you explain it?\n",
        "\n"
      ]
    },
    {
      "cell_type": "markdown",
      "metadata": {
        "id": "LQ-AcC9liDAI"
      },
      "source": [
        "testSent1 was present on chapter L, testSent2 was present in chapter XLVIII while testSent3 wasn't in any chapter."
      ]
    },
    {
      "cell_type": "markdown",
      "metadata": {
        "id": "nFMkW9hKecxK"
      },
      "source": [
        "  - - - - - - - - - -\n",
        "\n",
        "1.   The testSent3 was very much with the text Context has the prediction was very accurate. The testSent3 prediction shows the power of NLP as the test was closer to the training. \n",
        "2.   Also, the trigram model outshone the bigram model because of higher perplexity.\n",
        "   - - - - - - - - - -"
      ]
    },
    {
      "cell_type": "markdown",
      "metadata": {
        "id": "vVBMcaAJXR9S"
      },
      "source": [
        "Which of the three models you generated above (unigram, bigram, trigram) is better in terms of **perplexity**, for the three test sentences (unseen data)? Write a piece of code to justify your answer. "
      ]
    },
    {
      "cell_type": "markdown",
      "metadata": {
        "id": "AAPa1OVZX8uN"
      },
      "source": [
        "  \n",
        "  - - - - - - - - - -\n",
        "  trigram was better in terms of perplexity followed by bigram and then unigram\n",
        "   - - - - - - - - - -"
      ]
    }
  ]
}